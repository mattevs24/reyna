{
 "cells": [
  {
   "metadata": {},
   "cell_type": "markdown",
   "source": "## Diffusion Equations",
   "id": "4d2163408e19bd4e"
  },
  {
   "metadata": {},
   "cell_type": "markdown",
   "source": [
    "Diffusion equations, potentially with reaction and forcing terms, are generally stated in the form\n",
    "\n",
    "$$\n",
    "\\mathcal{B} := -\\nabla\\cdot(a\\nabla u) + c u = f \\quad \\mathbf{x}\\in\\Omega\n",
    "$$"
   ],
   "id": "58690e0a33f13d34"
  },
  {
   "metadata": {},
   "cell_type": "markdown",
   "source": [
    "where $a:\\Omega\\to\\mathbb{R}^{d\\times d}$ is a given diffusion tensor field, $c:\\Omega\\to\\mathbb{R}$ is a given reaction scalar field and $f:\\Omega\\to\\mathbb{R}$ is a forcing scalar field. To assure that this equation is well-defined and a unique solution exists, we must make several more assumptions\n",
    "\n",
    "1. $\\Omega\\subset\\mathbb{R}^d$ is a bounded Lipschitz domain.\n",
    "2. $f\\in L^2(\\Omega)$\n",
    "3. $a=\\{a_{i,j}\\}_{i,j=1}^d$ with $a_{i,j}\\in L^{\\infty}(\\Omega)$ and $a_{i,j}=a_{j,i}$\n",
    "4. The diffusion tensor $a$ has non negative characteristic, i.e. $\\exists\\theta>0$ such that\n",
    "$$\n",
    "\\mathbf{\\zeta}^T a \\mathbf{\\zeta} \\ge\\theta|\\mathbf{\\zeta}|^2 > 0 \\quad \\forall\\mathbf{0}\\ne\\mathbf{\\zeta}\\in\\mathbb{R}^d\n",
    "$$"
   ],
   "id": "664e4a0d2d1adc5f"
  },
  {
   "metadata": {},
   "cell_type": "markdown",
   "source": "The well-posedness of this problem is a given when appropriate boundary conditions are provided.",
   "id": "7c20bcc9651c6d56"
  },
  {
   "metadata": {},
   "cell_type": "markdown",
   "source": "",
   "id": "740c53c7d17ff258"
  },
  {
   "metadata": {},
   "cell_type": "markdown",
   "source": "### Spatial Discretisation",
   "id": "bc07e614096831e4"
  },
  {
   "metadata": {},
   "cell_type": "markdown",
   "source": "",
   "id": "a514492d329658d1"
  },
  {
   "metadata": {},
   "cell_type": "markdown",
   "source": "",
   "id": "2fbcbed835962a37"
  },
  {
   "metadata": {},
   "cell_type": "markdown",
   "source": "",
   "id": "cae63b1b0a5ed746"
  },
  {
   "metadata": {},
   "cell_type": "markdown",
   "source": "### DGFEM discretisation of $\\mathcal{B}$",
   "id": "2f2baad731337661"
  },
  {
   "metadata": {},
   "cell_type": "markdown",
   "source": "",
   "id": "5fc42cafd94c6cae"
  },
  {
   "metadata": {},
   "cell_type": "markdown",
   "source": "",
   "id": "1d0329af841aea68"
  },
  {
   "metadata": {},
   "cell_type": "markdown",
   "source": "",
   "id": "b08fcfc9f827b792"
  },
  {
   "metadata": {},
   "cell_type": "markdown",
   "source": "### Solving the PDE",
   "id": "dafe5de316581681"
  },
  {
   "metadata": {},
   "cell_type": "markdown",
   "source": "",
   "id": "2f54041de9a832ff"
  },
  {
   "metadata": {},
   "cell_type": "markdown",
   "source": "",
   "id": "704bdb26550db809"
  },
  {
   "metadata": {},
   "cell_type": "markdown",
   "source": "",
   "id": "8ebb67457409640e"
  },
  {
   "metadata": {},
   "cell_type": "markdown",
   "source": "### Benchmarking",
   "id": "a15fc11a893c4029"
  },
  {
   "metadata": {},
   "cell_type": "markdown",
   "source": "",
   "id": "ea87164d4157ffa"
  },
  {
   "metadata": {},
   "cell_type": "markdown",
   "source": "",
   "id": "bb6462936cdc8290"
  },
  {
   "metadata": {},
   "cell_type": "markdown",
   "source": "",
   "id": "4944803b87144922"
  },
  {
   "metadata": {},
   "cell_type": "markdown",
   "source": "",
   "id": "c0644ee8d5ec31ff"
  }
 ],
 "metadata": {
  "kernelspec": {
   "display_name": "Python 3",
   "language": "python",
   "name": "python3"
  },
  "language_info": {
   "codemirror_mode": {
    "name": "ipython",
    "version": 2
   },
   "file_extension": ".py",
   "mimetype": "text/x-python",
   "name": "python",
   "nbconvert_exporter": "python",
   "pygments_lexer": "ipython2",
   "version": "2.7.6"
  }
 },
 "nbformat": 4,
 "nbformat_minor": 5
}
